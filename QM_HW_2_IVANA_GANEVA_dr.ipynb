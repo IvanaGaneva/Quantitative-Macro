{
 "cells": [
  {
   "cell_type": "markdown",
   "metadata": {},
   "source": [
    "# Quantitative Macroeconomics - Homework II\n",
    "Ivana Kaloyanova Ganeva\n",
    "\n",
    "*October 10, 2020*"
   ]
  },
  {
   "cell_type": "code",
   "execution_count": 2,
   "metadata": {},
   "outputs": [],
   "source": [
    "# SOME PRELIMINARIES:\n",
    "# (loading the necessary libraries)\n",
    "import pandas as pd\n",
    "import numpy as np\n",
    "from scipy.optimize import fsolve\n",
    "import matplotlib.pyplot as plt"
   ]
  },
  {
   "cell_type": "markdown",
   "metadata": {},
   "source": [
    "## Qustion 1. A Representative Agent Economy\n",
    "Within this question, we are asked to consider the closed optimal growth economy populated by a large number of identical infinitely-lived households which maximize:\n",
    "$$\\mathbb{E}_0 \\left\\{\\sum_{t=0}^{\\infty} \\beta^t u(c_t)\\right\\}$$\n",
    "over consumption and leisure, $u(c_t)=\\log(c_t)$, subject to the constraints of:\n",
    "\\begin{align*}\n",
    "c_t + i_t &= y_t\\\\\n",
    "y_t &= k_t^{1-\\theta}(zh_t)^{\\theta}\\\\\n",
    "i_t &= k_{t+1} - (1-\\delta)k_t \\, .\n",
    "\\end{align*}\n",
    "As required, I will set labour share at $\\theta=0.67$, and will start with the value of $h_t=0.31$ for all $t$; the population growth is here considered to be $0$.\n",
    "\n",
    "### a) The Steady-State\n",
    "For this part of the exercise, we are originally asked to compute the steady-state; and to choose $z$ to match an annual capital-output ratio of $4$, and an investment-output ratio of $0.25$. However, for the latter, it will become clear that $z$ cancels out when we derive the explicit expressions of the ratios, and hence the steady-state in these scenarios will be independent of our choice on the productivity parameter $z$. Therefore, I will simply proceed to derive the steady-state corresponding to the ratios given, without 'controlling' for $z$.\n",
    "\n",
    "#### Analytical Solution\n",
    "It is clear that we can reduce the number of constraints by substituting the second and third binding constraints into the first one. That is, we can re-write the optimization problem of the representative household as:\n",
    "\\begin{align*}\n",
    "&\\max_{c_t, k_{t+1}} \\mathbb{E}_0 \\left\\{\\sum_{t=0}^{\\infty} \\beta^t u(c_t)\\right\\}\\\\\n",
    "&\\text{s.t.} \\quad c_t + k_{t+1} - (1-\\delta)k_t = k_t^{1-\\theta}(zh_t)^{\\theta}, \\quad \\forall t \\, .\n",
    "\\end{align*}\n",
    "\n",
    "This formulation allows us to construct the Lagrangean function as follows:\n",
    "$$\n",
    "\\mathcal{L}(c_t, k_{t+1}; \\mu_t) = \\mathbb{E}_0 \\left\\{\\sum_{t=0}^{\\infty} \\beta^t u(c_t)\\right\\} - \\sum_{t=0}^{\\infty}\\mu_t\\left(c_t + k_{t+1} - (1-\\delta)k_t - k_t^{1-\\theta}(zh_t)^{\\theta}\\right) \\, .\n",
    "$$\n",
    "\n",
    "The respective First-Order Conditions read as:\n",
    "\\begin{align*}\n",
    "[c_t]: \\quad &\\dfrac{\\partial \\mathcal{L}(\\cdot)}{\\partial c_t} = 0 &\\Leftrightarrow \\beta^t u_c(c_t) - \\mu_t = 0 \\, ;\\\\\n",
    "[k_{t+1}]: \\quad &\\dfrac{\\partial \\mathcal{L}(\\cdot)}{\\partial k_{t+1}} = 0 &\\Leftrightarrow -\\mu_t + \\mu_{t+1}\\left((1-\\delta) - (1-\\theta)(zh_t)^{\\theta}k_{t+1}^{-\\theta}\\right) = 0 \\, .\n",
    "\\end{align*}\n",
    "\n",
    "From this, one can proceed as usual to combine the respective F.O.C.s for $c_t$ and $c_{t+1}$ together with the expression above for $k_{t+1}$ to obtain the inter-temporal Euler equation for consumption. That is, we have that:\n",
    "\\begin{align*}\n",
    "\\dfrac{u_c(c_t)}{u_c(c_{t+1})} &= \\beta\\dfrac{\\mu_{t}}{\\mu_{t+1}}\\\\\n",
    "\\Longleftrightarrow \\dfrac{u_c(c_t)}{u_c(c_{t+1})} &= \\beta\\left((1-\\delta) - (1-\\theta)(zh_t)^{\\theta}k_{t+1}^{-\\theta}\\right) \\, ,\n",
    "\\end{align*}\n",
    "\n",
    "which after the substitution with $u_c(c) = \\dfrac{1}{c}$ (by the log-utility given) becomes:\n",
    "$$\n",
    "c_{t+1} = \\beta\\left((1-\\delta) - (1-\\theta)(zh_t)^{\\theta}k_{t+1}^{-\\theta}\\right)c_t \\, .\n",
    "$$\n",
    "\n",
    "Once the steady-state is imposed on $c$ and $k$, we have that $c_{t+1}=c_t\\equiv c_{ss}$ and this translates to \n",
    "$$\n",
    "(1-\\delta) + (1-\\theta)(zh_t)^{\\theta}k_{t+1}^{-\\theta} = \\beta^{-1} \\quad \\text{at the st.s.}\n",
    "$$\n",
    "\n",
    "That is, for $k_{ss}$ it will hold that \n",
    "$$\n",
    "k_{t+1}=k_t\\equiv k_{ss} = \\left(\\dfrac{1-\\theta}{1-\\delta-\\dfrac{1}{\\beta}}\\right)^{\\dfrac{1}{\\theta}}\\cdot zh_t \\, .\n",
    "$$\n",
    "\n",
    "This allows us to obtain the precise values for our variables/parameters that lead to the desired ratios of capital to output and of investment to output, once we normalize output to one. That is, once we set $y_{ss}$ to 1, we must obviously have $k_{ss}=4$ and $i_{ss} = 0.25$. Hence, once we substitute into the original constraints, i.e. into the law of motion of capital, the budget constraint, etc., we arrive at:\n",
    "\n",
    "\\begin{align*}\n",
    "c_{ss} = y_{ss} - i_{ss} &\\Longleftrightarrow \\boldsymbol{c_{ss}} = 1-0.25 = 0.75 \\,;\\\\\n",
    "k_{ss}\\delta^* = i_{ss} &\\Longleftrightarrow \\boldsymbol{\\delta^*} = 0.25\\cdot 0.25 = 0.0625\\,;\\\\\n",
    "z^* = \\left(\\frac{y_{ss}}{k_{ss}^{1-\\theta}h_t^{\\theta}}\\right)^{\\frac{1}{\\theta}} &\\Longleftrightarrow \\boldsymbol{z^*} = \\left(\\frac{1}{4^{1-0.67}0.31^{0.67}}\\right)^{\\frac{1}{0.67}} = 1.629676 \\,.\n",
    "\\end{align*}\n",
    "\n",
    "where in the last of the calculations we substitute with the values for $\\theta$ and $h_t$ given.\n",
    "\n",
    "Within the next part of this question, I will proceed to check these calculations via an R code.\n",
    "\n",
    "#### Computational Derivations\n",
    "Below, I will provide the computational derivation of the steady state for the representative household model described above."
   ]
  },
  {
   "cell_type": "code",
   "execution_count": 20,
   "metadata": {},
   "outputs": [
    {
     "name": "stdout",
     "output_type": "stream",
     "text": [
      "[0.74968885 3.99834054 0.99958513 0.0625     0.98039216]\n"
     ]
    }
   ],
   "source": [
    "# STEP 1:\n",
    "# Creating a function that calculates the Steady State values:\n",
    "#   inputs: (the known parameters of)\n",
    "#           - h_t (labour supply)\n",
    "#           - theta (labour share)\n",
    "#           - z (productivity)\n",
    "#           (the desired ratios of)\n",
    "#           - k_to_y (capital-output ratio)\n",
    "#           - i_to_y (investment-output ratio)\n",
    "#           & most importantly, the vector x containing all the s.s. variables\n",
    "# [Based on the non-linear equations for constraints that we have in this model.]\n",
    "\n",
    "# Defining the known parameters/ratios outside the function:\n",
    "# (fsolve wouldn't work otherwise - if that was possible, I would instead type\n",
    "# st_state_function <- function(x, h = 0.31, theta = 0.67, z, k_to_y = 4, i_to_y = 0.25)\n",
    "# ...\n",
    "#)\n",
    "\n",
    "h = 0.31; theta = 0.67; k_to_y = 4; i_to_y = 0.25;\n",
    "z = 1.629 # as suggested\n",
    "\n",
    "def st_state_function(x):\n",
    "  # The Five Constraints:\n",
    "  #   (which will be equated to zero when obtaining the roots/solution)\n",
    "  # - The Capital-Output Ratio:\n",
    "  k_to_y_constr = k_to_y - (x[1]/x[2])\n",
    "  # - The Investment-Output Ratio:\n",
    "  i_to_y_constr = i_to_y - ((x[3]*x[1])/x[2])\n",
    "  # - The Euler Equation:\n",
    "  ee_constr = (1 - x[3] + (1-theta)*((z*h)**theta)*(x[1])**(-theta))*x[4]-1\n",
    "  # - The Budget/Resource Constraint:\n",
    "  b_constr = x[2] - x[0] - x[1]*x[3]\n",
    "  # - Cobb-Douglas Production:\n",
    "  cd_prod_constr = x[2] - (x[1]**(1-theta))*((z*h)**(theta))\n",
    "  # For the five variables of: c_ss, k_ss, y_ss, delta, and beta\n",
    "  # - these are five and not six since we can isolate i_ss as i_ss = k_ss*delta\n",
    "  #   in the budget constraint\n",
    "  # - also considering z to be a parameter rather than a variable\n",
    "  #   [following the arguments in the analytical part - it cancels out]\n",
    "  # - having put these variables into a vector x to match the syntax of the fsolve funct:\n",
    "  # x = (c_ss, k_ss, y_ss, delta, beta)\n",
    "  #     x[0]   x[1]  x[2]  x[3]   x[4]\n",
    "  return [k_to_y_constr, i_to_y_constr, ee_constr, b_constr, cd_prod_constr]\n",
    "\n",
    "# STEP 2: \n",
    "# Setting the initial guess:\n",
    "x_0 = [0.7, 3.9, 1, 0.06, 0.95]\n",
    "  # using the normalization y = 1 at the initial guess\n",
    "\n",
    "# STEP 3: \n",
    "# Solving the function, i.e. finding the steady state numerically:\n",
    "x_ss = fsolve(st_state_function, x_0)\n",
    "print(x_ss)\n",
    "\n",
    "# These are the steady state values for consumption, capital, output, delta and beta, respectively:"
   ]
  },
  {
   "cell_type": "code",
   "execution_count": 22,
   "metadata": {},
   "outputs": [
    {
     "name": "stdout",
     "output_type": "stream",
     "text": [
      "0.24989628364490718\n"
     ]
    }
   ],
   "source": [
    "# Calculating the investment in steady state using the relationship established analytically above:\n",
    "i_ss = x_ss[3]*x_ss[1] # i.e. investment_ss = delta* . capital_ss\n",
    "print(i_ss)"
   ]
  },
  {
   "cell_type": "markdown",
   "metadata": {},
   "source": [
    "### b) New Steady-State, $z'=2z$\n",
    "For this part, one simply needs to change the initial value for $z$ and re-run the function defined above. That is presented in the following chunk."
   ]
  },
  {
   "cell_type": "code",
   "execution_count": 23,
   "metadata": {},
   "outputs": [
    {
     "name": "stdout",
     "output_type": "stream",
     "text": [
      "{'x_ss_2': array([1.4993777 , 7.99668108, 1.99917027, 0.0625    , 0.98039216]), 'i_ss_2': 0.4997925672221337}\n"
     ]
    }
   ],
   "source": [
    "z = 2*z # doubling the productivity parameter as required\n",
    "\n",
    "x_ss_2 = fsolve(st_state_function, x_0)\n",
    "i_ss_2 = x_ss_2[3]*x_ss_2[1]\n",
    "\n",
    "print({'x_ss_2': x_ss_2, 'i_ss_2': i_ss_2})\n",
    "# Once again, these are the values for consumption, capital, output, delta and beta, as well as for investment, resp."
   ]
  },
  {
   "cell_type": "markdown",
   "metadata": {},
   "source": [
    "It is noticeable that the steady state values here have doubled for the case where we double the productivity parameter. Now, I will proceed to explore the transition paths from the first steady state to the second one, as required."
   ]
  },
  {
   "cell_type": "markdown",
   "metadata": {},
   "source": [
    "### c) The Transition\n",
    "Here, we will explore the transition dynamics of the variables of interest when following the path from the first steady state with $z=1.629$ to the other, where the productivity parameter doubles."
   ]
  },
  {
   "cell_type": "code",
   "execution_count": 33,
   "metadata": {},
   "outputs": [],
   "source": [
    "# Setting the number of periods/iterations here:\n",
    "n = 100\n",
    "\n",
    "# For simplicity, let us define the Cobb-Douglas production function in the beginning:\n",
    "def cd_prod(k,z):\n",
    "    return (k**(1-theta))*((z*h)**theta)\n",
    "    # theta and h will be fixed, as given; \n",
    "    # the variables here will be capital and z - since we are interested in the changes of capital following\n",
    "                                            # the switch in the productivity parameter of z\n",
    "\n",
    "# Now, using the combined constraint in the final formulation of the optimization problem of the RA,\n",
    "# one can establish the Euler Equation as a function of the capital over two consecutive periods only.\n",
    "# [Hence, we will need three Euler Equations in total to obtain all the values on the paths.]\n",
    "\n",
    "# That is, we can first solve for the capital sequence, based on the Euler equation and our initial constraints.\n",
    "k_ss = x_ss[1]\n",
    "k_ss_2 = x_ss_2[1]\n",
    "    # These are respectively the first and last values for capital - i.e. the end points for the two steady states.\n",
    "\n",
    "beta = x_ss[4]\n",
    "delta = x_ss[3]\n",
    "    \n",
    "def path_function(k):\n",
    "    # Setting the first and last elements to match the two steady states:\n",
    "    k[0] = k_ss\n",
    "    k[n-1] = k_ss_2\n",
    "    # Initializing the empty vector for the capital transitions:\n",
    "    k_path = np.zeros(n)\n",
    "    # Obtaining the middle elements:\n",
    "    for i in range(0, n-2):\n",
    "        if i == 0:\n",
    "            k_path[i+1] = cd_prod(k[i+1], z) + (1-delta)*k[i+1] - k[i+2] - \\\n",
    "            beta*(cd_prod(k[0], z) + (1-delta)*k[0] - k[i+1])* \\\n",
    "            (1 - delta + (1-theta)*((k[i+1])**(-theta))*((cd_prod(k[0], z))/(k[0]**(1-theta))))\n",
    "            # bearing in mind that z now coincides with z', i.e. that it is doubled already\n",
    "        elif i == (n-2):\n",
    "            k_path[i+1] = cd_prod(k[i+1], z) + (1-delta)*k[i+1] - k[n-1] - \\\n",
    "            beta*(cd_prod(k[i], z) + (1-delta)*k[i] - k[i+1])* \\\n",
    "            (1 - delta + (1-theta)*((k[i+1])**(-theta))*((cd_prod(k[i], z))/(k[i]**(1-theta))))\n",
    "        else:\n",
    "            k_path[i+1] = cd_prod(k[i+1], z) + (1-delta)*k[i+1] - k[i+2] - \\\n",
    "            beta*(cd_prod(k[i], z) + (1-delta)*k[i] - k[i+1])* \\\n",
    "            (1 - delta + (1-theta)*((k[i+1])**(-theta))*((cd_prod(k[i], z))/(k[i]**(1-theta))))\n",
    "    return(k_path)\n",
    "\n",
    "# Solving for the capital transition path:\n",
    "k_path = fsolve(path_function, np.linspace(4, 8, n))\n",
    "    # Here, the initial value is a vector of 100 equally-distanced points on the real segment [4,8]\n",
    "    # (where the latter interval is defined by the two steady state points)\n",
    "\n",
    "# Obtaining the paths for the remaining variables of interest:\n",
    "l_path = h*np.ones(n)\n",
    "    # for the labour, knowing that the share remains the same (given)\n",
    "\n",
    "y_path = cd_prod(k_path, z)\n",
    "    # for the output\n",
    "\n",
    "s_path = np.zeros(n)\n",
    "for i in range(0,n-1):\n",
    "    s_path[i] = k_path[i+1] - k_path[i]*(1-delta)\n",
    "s_path[n-1] = s_path[n-2]\n",
    "    # for the savings, where we smooth out the last step\n",
    "\n",
    "c_path = y_path - s_path"
   ]
  },
  {
   "cell_type": "markdown",
   "metadata": {},
   "source": [
    "Now, having computed the transition plots, I will proceed to plot them."
   ]
  },
  {
   "cell_type": "code",
   "execution_count": 34,
   "metadata": {},
   "outputs": [
    {
     "ename": "ValueError",
     "evalue": "x and y must have same first dimension, but have shapes (101,) and (100,)",
     "output_type": "error",
     "traceback": [
      "\u001b[1;31m---------------------------------------------------------------------------\u001b[0m",
      "\u001b[1;31mValueError\u001b[0m                                Traceback (most recent call last)",
      "\u001b[1;32m<ipython-input-34-6cb812dea800>\u001b[0m in \u001b[0;36m<module>\u001b[1;34m\u001b[0m\n\u001b[0;32m      4\u001b[0m \u001b[1;31m# Capital\u001b[0m\u001b[1;33m\u001b[0m\u001b[1;33m\u001b[0m\u001b[1;33m\u001b[0m\u001b[0m\n\u001b[0;32m      5\u001b[0m \u001b[0mfig\u001b[0m\u001b[1;33m,\u001b[0m\u001b[0max\u001b[0m \u001b[1;33m=\u001b[0m \u001b[0mplt\u001b[0m\u001b[1;33m.\u001b[0m\u001b[0msubplots\u001b[0m\u001b[1;33m(\u001b[0m\u001b[1;33m)\u001b[0m\u001b[1;33m\u001b[0m\u001b[1;33m\u001b[0m\u001b[0m\n\u001b[1;32m----> 6\u001b[1;33m \u001b[0max\u001b[0m\u001b[1;33m.\u001b[0m\u001b[0mplot\u001b[0m\u001b[1;33m(\u001b[0m\u001b[0mt\u001b[0m\u001b[1;33m,\u001b[0m \u001b[0mk_path\u001b[0m\u001b[1;33m,\u001b[0m \u001b[1;34m'-'\u001b[0m\u001b[1;33m,\u001b[0m \u001b[0mcolor\u001b[0m \u001b[1;33m=\u001b[0m \u001b[1;34m'blue'\u001b[0m\u001b[1;33m,\u001b[0m \u001b[0mlinewidth\u001b[0m \u001b[1;33m=\u001b[0m \u001b[1;36m2\u001b[0m\u001b[1;33m)\u001b[0m\u001b[1;33m\u001b[0m\u001b[1;33m\u001b[0m\u001b[0m\n\u001b[0m\u001b[0;32m      7\u001b[0m \u001b[0max\u001b[0m\u001b[1;33m.\u001b[0m\u001b[0mset_title\u001b[0m\u001b[1;33m(\u001b[0m\u001b[1;34m'Capital Transition Path'\u001b[0m\u001b[1;33m)\u001b[0m\u001b[1;33m\u001b[0m\u001b[1;33m\u001b[0m\u001b[0m\n\u001b[0;32m      8\u001b[0m \u001b[0max\u001b[0m\u001b[1;33m.\u001b[0m\u001b[0mset_ylabel\u001b[0m\u001b[1;33m(\u001b[0m\u001b[1;34m'$k_t$'\u001b[0m\u001b[1;33m)\u001b[0m\u001b[1;33m\u001b[0m\u001b[1;33m\u001b[0m\u001b[0m\n",
      "\u001b[1;32m~\\Anaconda3\\lib\\site-packages\\matplotlib\\__init__.py\u001b[0m in \u001b[0;36minner\u001b[1;34m(ax, data, *args, **kwargs)\u001b[0m\n\u001b[0;32m   1808\u001b[0m                         \u001b[1;34m\"the Matplotlib list!)\"\u001b[0m \u001b[1;33m%\u001b[0m \u001b[1;33m(\u001b[0m\u001b[0mlabel_namer\u001b[0m\u001b[1;33m,\u001b[0m \u001b[0mfunc\u001b[0m\u001b[1;33m.\u001b[0m\u001b[0m__name__\u001b[0m\u001b[1;33m)\u001b[0m\u001b[1;33m,\u001b[0m\u001b[1;33m\u001b[0m\u001b[1;33m\u001b[0m\u001b[0m\n\u001b[0;32m   1809\u001b[0m                         RuntimeWarning, stacklevel=2)\n\u001b[1;32m-> 1810\u001b[1;33m             \u001b[1;32mreturn\u001b[0m \u001b[0mfunc\u001b[0m\u001b[1;33m(\u001b[0m\u001b[0max\u001b[0m\u001b[1;33m,\u001b[0m \u001b[1;33m*\u001b[0m\u001b[0margs\u001b[0m\u001b[1;33m,\u001b[0m \u001b[1;33m**\u001b[0m\u001b[0mkwargs\u001b[0m\u001b[1;33m)\u001b[0m\u001b[1;33m\u001b[0m\u001b[1;33m\u001b[0m\u001b[0m\n\u001b[0m\u001b[0;32m   1811\u001b[0m \u001b[1;33m\u001b[0m\u001b[0m\n\u001b[0;32m   1812\u001b[0m         inner.__doc__ = _add_data_doc(inner.__doc__,\n",
      "\u001b[1;32m~\\Anaconda3\\lib\\site-packages\\matplotlib\\axes\\_axes.py\u001b[0m in \u001b[0;36mplot\u001b[1;34m(self, scalex, scaley, *args, **kwargs)\u001b[0m\n\u001b[0;32m   1609\u001b[0m         \u001b[0mkwargs\u001b[0m \u001b[1;33m=\u001b[0m \u001b[0mcbook\u001b[0m\u001b[1;33m.\u001b[0m\u001b[0mnormalize_kwargs\u001b[0m\u001b[1;33m(\u001b[0m\u001b[0mkwargs\u001b[0m\u001b[1;33m,\u001b[0m \u001b[0mmlines\u001b[0m\u001b[1;33m.\u001b[0m\u001b[0mLine2D\u001b[0m\u001b[1;33m.\u001b[0m\u001b[0m_alias_map\u001b[0m\u001b[1;33m)\u001b[0m\u001b[1;33m\u001b[0m\u001b[1;33m\u001b[0m\u001b[0m\n\u001b[0;32m   1610\u001b[0m \u001b[1;33m\u001b[0m\u001b[0m\n\u001b[1;32m-> 1611\u001b[1;33m         \u001b[1;32mfor\u001b[0m \u001b[0mline\u001b[0m \u001b[1;32min\u001b[0m \u001b[0mself\u001b[0m\u001b[1;33m.\u001b[0m\u001b[0m_get_lines\u001b[0m\u001b[1;33m(\u001b[0m\u001b[1;33m*\u001b[0m\u001b[0margs\u001b[0m\u001b[1;33m,\u001b[0m \u001b[1;33m**\u001b[0m\u001b[0mkwargs\u001b[0m\u001b[1;33m)\u001b[0m\u001b[1;33m:\u001b[0m\u001b[1;33m\u001b[0m\u001b[1;33m\u001b[0m\u001b[0m\n\u001b[0m\u001b[0;32m   1612\u001b[0m             \u001b[0mself\u001b[0m\u001b[1;33m.\u001b[0m\u001b[0madd_line\u001b[0m\u001b[1;33m(\u001b[0m\u001b[0mline\u001b[0m\u001b[1;33m)\u001b[0m\u001b[1;33m\u001b[0m\u001b[1;33m\u001b[0m\u001b[0m\n\u001b[0;32m   1613\u001b[0m             \u001b[0mlines\u001b[0m\u001b[1;33m.\u001b[0m\u001b[0mappend\u001b[0m\u001b[1;33m(\u001b[0m\u001b[0mline\u001b[0m\u001b[1;33m)\u001b[0m\u001b[1;33m\u001b[0m\u001b[1;33m\u001b[0m\u001b[0m\n",
      "\u001b[1;32m~\\Anaconda3\\lib\\site-packages\\matplotlib\\axes\\_base.py\u001b[0m in \u001b[0;36m_grab_next_args\u001b[1;34m(self, *args, **kwargs)\u001b[0m\n\u001b[0;32m    391\u001b[0m                 \u001b[0mthis\u001b[0m \u001b[1;33m+=\u001b[0m \u001b[0margs\u001b[0m\u001b[1;33m[\u001b[0m\u001b[1;36m0\u001b[0m\u001b[1;33m]\u001b[0m\u001b[1;33m,\u001b[0m\u001b[1;33m\u001b[0m\u001b[1;33m\u001b[0m\u001b[0m\n\u001b[0;32m    392\u001b[0m                 \u001b[0margs\u001b[0m \u001b[1;33m=\u001b[0m \u001b[0margs\u001b[0m\u001b[1;33m[\u001b[0m\u001b[1;36m1\u001b[0m\u001b[1;33m:\u001b[0m\u001b[1;33m]\u001b[0m\u001b[1;33m\u001b[0m\u001b[1;33m\u001b[0m\u001b[0m\n\u001b[1;32m--> 393\u001b[1;33m             \u001b[1;32myield\u001b[0m \u001b[1;32mfrom\u001b[0m \u001b[0mself\u001b[0m\u001b[1;33m.\u001b[0m\u001b[0m_plot_args\u001b[0m\u001b[1;33m(\u001b[0m\u001b[0mthis\u001b[0m\u001b[1;33m,\u001b[0m \u001b[0mkwargs\u001b[0m\u001b[1;33m)\u001b[0m\u001b[1;33m\u001b[0m\u001b[1;33m\u001b[0m\u001b[0m\n\u001b[0m\u001b[0;32m    394\u001b[0m \u001b[1;33m\u001b[0m\u001b[0m\n\u001b[0;32m    395\u001b[0m \u001b[1;33m\u001b[0m\u001b[0m\n",
      "\u001b[1;32m~\\Anaconda3\\lib\\site-packages\\matplotlib\\axes\\_base.py\u001b[0m in \u001b[0;36m_plot_args\u001b[1;34m(self, tup, kwargs)\u001b[0m\n\u001b[0;32m    368\u001b[0m             \u001b[0mx\u001b[0m\u001b[1;33m,\u001b[0m \u001b[0my\u001b[0m \u001b[1;33m=\u001b[0m \u001b[0mindex_of\u001b[0m\u001b[1;33m(\u001b[0m\u001b[0mtup\u001b[0m\u001b[1;33m[\u001b[0m\u001b[1;33m-\u001b[0m\u001b[1;36m1\u001b[0m\u001b[1;33m]\u001b[0m\u001b[1;33m)\u001b[0m\u001b[1;33m\u001b[0m\u001b[1;33m\u001b[0m\u001b[0m\n\u001b[0;32m    369\u001b[0m \u001b[1;33m\u001b[0m\u001b[0m\n\u001b[1;32m--> 370\u001b[1;33m         \u001b[0mx\u001b[0m\u001b[1;33m,\u001b[0m \u001b[0my\u001b[0m \u001b[1;33m=\u001b[0m \u001b[0mself\u001b[0m\u001b[1;33m.\u001b[0m\u001b[0m_xy_from_xy\u001b[0m\u001b[1;33m(\u001b[0m\u001b[0mx\u001b[0m\u001b[1;33m,\u001b[0m \u001b[0my\u001b[0m\u001b[1;33m)\u001b[0m\u001b[1;33m\u001b[0m\u001b[1;33m\u001b[0m\u001b[0m\n\u001b[0m\u001b[0;32m    371\u001b[0m \u001b[1;33m\u001b[0m\u001b[0m\n\u001b[0;32m    372\u001b[0m         \u001b[1;32mif\u001b[0m \u001b[0mself\u001b[0m\u001b[1;33m.\u001b[0m\u001b[0mcommand\u001b[0m \u001b[1;33m==\u001b[0m \u001b[1;34m'plot'\u001b[0m\u001b[1;33m:\u001b[0m\u001b[1;33m\u001b[0m\u001b[1;33m\u001b[0m\u001b[0m\n",
      "\u001b[1;32m~\\Anaconda3\\lib\\site-packages\\matplotlib\\axes\\_base.py\u001b[0m in \u001b[0;36m_xy_from_xy\u001b[1;34m(self, x, y)\u001b[0m\n\u001b[0;32m    229\u001b[0m         \u001b[1;32mif\u001b[0m \u001b[0mx\u001b[0m\u001b[1;33m.\u001b[0m\u001b[0mshape\u001b[0m\u001b[1;33m[\u001b[0m\u001b[1;36m0\u001b[0m\u001b[1;33m]\u001b[0m \u001b[1;33m!=\u001b[0m \u001b[0my\u001b[0m\u001b[1;33m.\u001b[0m\u001b[0mshape\u001b[0m\u001b[1;33m[\u001b[0m\u001b[1;36m0\u001b[0m\u001b[1;33m]\u001b[0m\u001b[1;33m:\u001b[0m\u001b[1;33m\u001b[0m\u001b[1;33m\u001b[0m\u001b[0m\n\u001b[0;32m    230\u001b[0m             raise ValueError(\"x and y must have same first dimension, but \"\n\u001b[1;32m--> 231\u001b[1;33m                              \"have shapes {} and {}\".format(x.shape, y.shape))\n\u001b[0m\u001b[0;32m    232\u001b[0m         \u001b[1;32mif\u001b[0m \u001b[0mx\u001b[0m\u001b[1;33m.\u001b[0m\u001b[0mndim\u001b[0m \u001b[1;33m>\u001b[0m \u001b[1;36m2\u001b[0m \u001b[1;32mor\u001b[0m \u001b[0my\u001b[0m\u001b[1;33m.\u001b[0m\u001b[0mndim\u001b[0m \u001b[1;33m>\u001b[0m \u001b[1;36m2\u001b[0m\u001b[1;33m:\u001b[0m\u001b[1;33m\u001b[0m\u001b[1;33m\u001b[0m\u001b[0m\n\u001b[0;32m    233\u001b[0m             raise ValueError(\"x and y can be no greater than 2-D, but have \"\n",
      "\u001b[1;31mValueError\u001b[0m: x and y must have same first dimension, but have shapes (101,) and (100,)"
     ]
    },
    {
     "data": {
      "image/png": "[encoded data removed]",
      "text/plain": [
       "<Figure size 432x288 with 1 Axes>"
      ]
     },
     "metadata": {
      "needs_background": "light"
     },
     "output_type": "display_data"
    }
   ],
   "source": [
    "t = np.array(list(range(0,(n+1))))\n",
    "    # this is the time vector marking the periods\n",
    "\n",
    "# Capital\n",
    "fig,ax = plt.subplots()    \n",
    "ax.plot(t, k_path, '-', color = 'blue', linewidth = 2)   \n",
    "ax.set_title('Capital Transition Path')\n",
    "ax.set_ylabel('$k_t$')\n",
    "ax.set_xlabel('t')\n",
    "plt.show()\n",
    "\n",
    "# Consumption\n",
    "fig,ax = plt.subplots()    \n",
    "ax.plot(t, c_path, '-', color = 'blue', linewidth = 2)   \n",
    "ax.set_title('Consumption Transition Path')\n",
    "ax.set_ylabel('Consumption')\n",
    "ax.set_xlabel('t')\n",
    "plt.show()\n",
    "\n",
    "# Savings\n",
    "fig,ax = plt.subplots()    \n",
    "ax.plot(t, s_path, '-', color = 'blue', linewidth = 2)   \n",
    "ax.set_title('Savings Transition Path')\n",
    "ax.set_ylabel('Savings')\n",
    "ax.set_xlabel('t')\n",
    "plt.show()\n",
    "\n",
    "# Labor\n",
    "fig,ax = plt.subplots()    \n",
    "ax.plot(t, l_path, '-', color = 'blue', linewidth = 2)   \n",
    "ax.set_title('Labor Transition Path')\n",
    "ax.set_ylabel('Labor')\n",
    "ax.set_xlabel('t')\n",
    "plt.show()\n",
    "\n",
    "# Output\n",
    "fig,ax = plt.subplots()    \n",
    "ax.plot(t, y_path, '-', color = 'blue', linewidth = 2)   \n",
    "ax.set_title('Output Transition Path')\n",
    "ax.set_ylabel('Output')\n",
    "ax.set_xlabel('t')\n",
    "plt.show()"
   ]
  },
  {
   "cell_type": "code",
   "execution_count": null,
   "metadata": {},
   "outputs": [],
   "source": []
  }
 ],
 "metadata": {
  "kernelspec": {
   "display_name": "Python 3",
   "language": "python",
   "name": "python3"
  },
  "language_info": {
   "codemirror_mode": {
    "name": "ipython",
    "version": 3
   },
   "file_extension": ".py",
   "mimetype": "text/x-python",
   "name": "python",
   "nbconvert_exporter": "python",
   "pygments_lexer": "ipython3",
   "version": "3.7.3"
  }
 },
 "nbformat": 4,
 "nbformat_minor": 2
}
